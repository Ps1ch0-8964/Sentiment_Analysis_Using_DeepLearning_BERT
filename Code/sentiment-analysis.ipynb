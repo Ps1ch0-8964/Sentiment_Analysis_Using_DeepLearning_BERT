{
 "cells": [
  {
   "cell_type": "markdown",
   "id": "3ce329bd",
   "metadata": {
    "papermill": {
     "duration": 0.017106,
     "end_time": "2023-09-11T14:02:46.951935",
     "exception": false,
     "start_time": "2023-09-11T14:02:46.934829",
     "status": "completed"
    },
    "tags": []
   },
   "source": [
    "**Steps followed in this notebook for Sentiment analysis of Tweets**\n",
    "\n",
    "    1. Importing the raw data of tweets\n",
    "    2. preprocessing of the tweets\n",
    "    3. Creating Embeddings using Word2Vec\n",
    "    4. Building RNN model\n",
    "    5. Interpreting the model\n",
    "    6. Evaluating the model\n",
    "    7. Saving the model\n",
    "    8. Predition on new tweet"
   ]
  },
  {
   "cell_type": "markdown",
   "metadata": {},
   "source": [
    "# Import Necessary Library "
   ]
  },
  {
   "cell_type": "code",
   "execution_count": 47,
   "id": "1e0b98af",
   "metadata": {
    "_cell_guid": "b1076dfc-b9ad-4769-8c92-a6c4dae69d19",
    "_uuid": "8f2839f25d086af736a60e9eeb907d3b93b6e0e5",
    "execution": {
     "iopub.execute_input": "2023-09-11T14:02:46.985870Z",
     "iopub.status.busy": "2023-09-11T14:02:46.985426Z",
     "iopub.status.idle": "2023-09-11T14:02:48.226872Z",
     "shell.execute_reply": "2023-09-11T14:02:48.225912Z"
    },
    "papermill": {
     "duration": 1.260871,
     "end_time": "2023-09-11T14:02:48.229455",
     "exception": false,
     "start_time": "2023-09-11T14:02:46.968584",
     "status": "completed"
    },
    "tags": []
   },
   "outputs": [],
   "source": [
    "import numpy as np # linear algebra\n",
    "import pandas as pd \n",
    "import re \n",
    "import pickle\n",
    "\n",
    "from sklearn.model_selection import train_test_split\n",
    "from sklearn.metrics import accuracy_score\n",
    "\n",
    "from tensorflow.keras.preprocessing.text import Tokenizer\n",
    "from tensorflow.keras.preprocessing.sequence import pad_sequences\n",
    "from tensorflow.keras import Sequential\n",
    "from tensorflow.keras.layers import Dense, SimpleRNN, Embedding, LSTM, GRU, Bidirectional, Conv1D, MaxPooling1D, GlobalMaxPooling1D\n",
    "from tensorflow.keras.preprocessing.text import Tokenizer\n",
    "from tensorflow.keras.layers import Dropout\n",
    "from tensorflow.keras.models import load_model\n",
    "\n",
    "from gensim.models import Word2Vec\n",
    "from gensim.models import KeyedVectors"
   ]
  },
  {
   "cell_type": "code",
   "execution_count": 2,
   "id": "343bdee6",
   "metadata": {
    "execution": {
     "iopub.execute_input": "2023-09-11T14:02:48.263309Z",
     "iopub.status.busy": "2023-09-11T14:02:48.262439Z",
     "iopub.status.idle": "2023-09-11T14:02:54.409849Z",
     "shell.execute_reply": "2023-09-11T14:02:54.408937Z"
    },
    "papermill": {
     "duration": 6.166563,
     "end_time": "2023-09-11T14:02:54.412168",
     "exception": false,
     "start_time": "2023-09-11T14:02:48.245605",
     "status": "completed"
    },
    "tags": []
   },
   "outputs": [
    {
     "data": {
      "text/html": [
       "<div>\n",
       "<style scoped>\n",
       "    .dataframe tbody tr th:only-of-type {\n",
       "        vertical-align: middle;\n",
       "    }\n",
       "\n",
       "    .dataframe tbody tr th {\n",
       "        vertical-align: top;\n",
       "    }\n",
       "\n",
       "    .dataframe thead th {\n",
       "        text-align: right;\n",
       "    }\n",
       "</style>\n",
       "<table border=\"1\" class=\"dataframe\">\n",
       "  <thead>\n",
       "    <tr style=\"text-align: right;\">\n",
       "      <th></th>\n",
       "      <th>sentiment</th>\n",
       "      <th>ids</th>\n",
       "      <th>date</th>\n",
       "      <th>flag</th>\n",
       "      <th>user</th>\n",
       "      <th>tweet</th>\n",
       "    </tr>\n",
       "  </thead>\n",
       "  <tbody>\n",
       "    <tr>\n",
       "      <th>0</th>\n",
       "      <td>0</td>\n",
       "      <td>1467810369</td>\n",
       "      <td>Mon Apr 06 22:19:45 PDT 2009</td>\n",
       "      <td>NO_QUERY</td>\n",
       "      <td>_TheSpecialOne_</td>\n",
       "      <td>@switchfoot http://twitpic.com/2y1zl - Awww, t...</td>\n",
       "    </tr>\n",
       "    <tr>\n",
       "      <th>1</th>\n",
       "      <td>0</td>\n",
       "      <td>1467810672</td>\n",
       "      <td>Mon Apr 06 22:19:49 PDT 2009</td>\n",
       "      <td>NO_QUERY</td>\n",
       "      <td>scotthamilton</td>\n",
       "      <td>is upset that he can't update his Facebook by ...</td>\n",
       "    </tr>\n",
       "    <tr>\n",
       "      <th>2</th>\n",
       "      <td>0</td>\n",
       "      <td>1467810917</td>\n",
       "      <td>Mon Apr 06 22:19:53 PDT 2009</td>\n",
       "      <td>NO_QUERY</td>\n",
       "      <td>mattycus</td>\n",
       "      <td>@Kenichan I dived many times for the ball. Man...</td>\n",
       "    </tr>\n",
       "    <tr>\n",
       "      <th>3</th>\n",
       "      <td>0</td>\n",
       "      <td>1467811184</td>\n",
       "      <td>Mon Apr 06 22:19:57 PDT 2009</td>\n",
       "      <td>NO_QUERY</td>\n",
       "      <td>ElleCTF</td>\n",
       "      <td>my whole body feels itchy and like its on fire</td>\n",
       "    </tr>\n",
       "    <tr>\n",
       "      <th>4</th>\n",
       "      <td>0</td>\n",
       "      <td>1467811193</td>\n",
       "      <td>Mon Apr 06 22:19:57 PDT 2009</td>\n",
       "      <td>NO_QUERY</td>\n",
       "      <td>Karoli</td>\n",
       "      <td>@nationwideclass no, it's not behaving at all....</td>\n",
       "    </tr>\n",
       "  </tbody>\n",
       "</table>\n",
       "</div>"
      ],
      "text/plain": [
       "   sentiment         ids                          date      flag  \\\n",
       "0          0  1467810369  Mon Apr 06 22:19:45 PDT 2009  NO_QUERY   \n",
       "1          0  1467810672  Mon Apr 06 22:19:49 PDT 2009  NO_QUERY   \n",
       "2          0  1467810917  Mon Apr 06 22:19:53 PDT 2009  NO_QUERY   \n",
       "3          0  1467811184  Mon Apr 06 22:19:57 PDT 2009  NO_QUERY   \n",
       "4          0  1467811193  Mon Apr 06 22:19:57 PDT 2009  NO_QUERY   \n",
       "\n",
       "              user                                              tweet  \n",
       "0  _TheSpecialOne_  @switchfoot http://twitpic.com/2y1zl - Awww, t...  \n",
       "1    scotthamilton  is upset that he can't update his Facebook by ...  \n",
       "2         mattycus  @Kenichan I dived many times for the ball. Man...  \n",
       "3          ElleCTF    my whole body feels itchy and like its on fire   \n",
       "4           Karoli  @nationwideclass no, it's not behaving at all....  "
      ]
     },
     "execution_count": 2,
     "metadata": {},
     "output_type": "execute_result"
    }
   ],
   "source": [
    "# Importing the dataset\n",
    "DATASET_COLUMNS  = [\"sentiment\", \"ids\", \"date\", \"flag\", \"user\", \"tweet\"]\n",
    "DATASET_ENCODING = \"ISO-8859-1\"\n",
    "dataset = pd.read_csv('dataset.csv',\n",
    "                      encoding=DATASET_ENCODING , names=DATASET_COLUMNS)\n",
    "dataset.head()"
   ]
  },
  {
   "cell_type": "code",
   "execution_count": 3,
   "id": "7cebebdc",
   "metadata": {
    "execution": {
     "iopub.execute_input": "2023-09-11T14:02:54.448365Z",
     "iopub.status.busy": "2023-09-11T14:02:54.448071Z",
     "iopub.status.idle": "2023-09-11T14:02:54.454076Z",
     "shell.execute_reply": "2023-09-11T14:02:54.453081Z"
    },
    "papermill": {
     "duration": 0.028537,
     "end_time": "2023-09-11T14:02:54.457355",
     "exception": false,
     "start_time": "2023-09-11T14:02:54.428818",
     "status": "completed"
    },
    "tags": []
   },
   "outputs": [
    {
     "data": {
      "text/plain": [
       "(1600000, 6)"
      ]
     },
     "execution_count": 3,
     "metadata": {},
     "output_type": "execute_result"
    }
   ],
   "source": [
    "dataset.shape"
   ]
  },
  {
   "cell_type": "code",
   "execution_count": 4,
   "id": "0e30dd55",
   "metadata": {
    "execution": {
     "iopub.execute_input": "2023-09-11T14:02:54.491104Z",
     "iopub.status.busy": "2023-09-11T14:02:54.490813Z",
     "iopub.status.idle": "2023-09-11T14:02:54.544991Z",
     "shell.execute_reply": "2023-09-11T14:02:54.543997Z"
    },
    "papermill": {
     "duration": 0.074192,
     "end_time": "2023-09-11T14:02:54.547499",
     "exception": false,
     "start_time": "2023-09-11T14:02:54.473307",
     "status": "completed"
    },
    "tags": []
   },
   "outputs": [
    {
     "data": {
      "text/html": [
       "<div>\n",
       "<style scoped>\n",
       "    .dataframe tbody tr th:only-of-type {\n",
       "        vertical-align: middle;\n",
       "    }\n",
       "\n",
       "    .dataframe tbody tr th {\n",
       "        vertical-align: top;\n",
       "    }\n",
       "\n",
       "    .dataframe thead th {\n",
       "        text-align: right;\n",
       "    }\n",
       "</style>\n",
       "<table border=\"1\" class=\"dataframe\">\n",
       "  <thead>\n",
       "    <tr style=\"text-align: right;\">\n",
       "      <th></th>\n",
       "      <th>sentiment</th>\n",
       "      <th>tweet</th>\n",
       "    </tr>\n",
       "  </thead>\n",
       "  <tbody>\n",
       "    <tr>\n",
       "      <th>0</th>\n",
       "      <td>0</td>\n",
       "      <td>@switchfoot http://twitpic.com/2y1zl - Awww, t...</td>\n",
       "    </tr>\n",
       "    <tr>\n",
       "      <th>1</th>\n",
       "      <td>0</td>\n",
       "      <td>is upset that he can't update his Facebook by ...</td>\n",
       "    </tr>\n",
       "    <tr>\n",
       "      <th>2</th>\n",
       "      <td>0</td>\n",
       "      <td>@Kenichan I dived many times for the ball. Man...</td>\n",
       "    </tr>\n",
       "    <tr>\n",
       "      <th>3</th>\n",
       "      <td>0</td>\n",
       "      <td>my whole body feels itchy and like its on fire</td>\n",
       "    </tr>\n",
       "    <tr>\n",
       "      <th>4</th>\n",
       "      <td>0</td>\n",
       "      <td>@nationwideclass no, it's not behaving at all....</td>\n",
       "    </tr>\n",
       "  </tbody>\n",
       "</table>\n",
       "</div>"
      ],
      "text/plain": [
       "   sentiment                                              tweet\n",
       "0          0  @switchfoot http://twitpic.com/2y1zl - Awww, t...\n",
       "1          0  is upset that he can't update his Facebook by ...\n",
       "2          0  @Kenichan I dived many times for the ball. Man...\n",
       "3          0    my whole body feels itchy and like its on fire \n",
       "4          0  @nationwideclass no, it's not behaving at all...."
      ]
     },
     "execution_count": 4,
     "metadata": {},
     "output_type": "execute_result"
    }
   ],
   "source": [
    "dataset = dataset[['sentiment', 'tweet']]\n",
    "dataset.head()"
   ]
  },
  {
   "cell_type": "code",
   "execution_count": 5,
   "id": "320ba2d0",
   "metadata": {
    "execution": {
     "iopub.execute_input": "2023-09-11T14:02:54.582830Z",
     "iopub.status.busy": "2023-09-11T14:02:54.581945Z",
     "iopub.status.idle": "2023-09-11T14:02:54.600813Z",
     "shell.execute_reply": "2023-09-11T14:02:54.599670Z"
    },
    "papermill": {
     "duration": 0.038856,
     "end_time": "2023-09-11T14:02:54.603257",
     "exception": false,
     "start_time": "2023-09-11T14:02:54.564401",
     "status": "completed"
    },
    "tags": []
   },
   "outputs": [
    {
     "data": {
      "text/plain": [
       "array([0, 4])"
      ]
     },
     "execution_count": 5,
     "metadata": {},
     "output_type": "execute_result"
    }
   ],
   "source": [
    "#unique values of sentiment\n",
    "dataset['sentiment'].unique()"
   ]
  },
  {
   "cell_type": "code",
   "execution_count": 6,
   "id": "8787be07",
   "metadata": {
    "execution": {
     "iopub.execute_input": "2023-09-11T14:02:54.638578Z",
     "iopub.status.busy": "2023-09-11T14:02:54.638315Z",
     "iopub.status.idle": "2023-09-11T14:02:54.656079Z",
     "shell.execute_reply": "2023-09-11T14:02:54.655034Z"
    },
    "papermill": {
     "duration": 0.03752,
     "end_time": "2023-09-11T14:02:54.658448",
     "exception": false,
     "start_time": "2023-09-11T14:02:54.620928",
     "status": "completed"
    },
    "tags": []
   },
   "outputs": [],
   "source": [
    "#replacing 4 with 1 for positive sentiment\n",
    "dataset['sentiment'] = dataset['sentiment'].replace(4,1)"
   ]
  },
  {
   "cell_type": "code",
   "execution_count": 7,
   "id": "b4c26e2a",
   "metadata": {
    "execution": {
     "iopub.execute_input": "2023-09-11T14:02:54.693373Z",
     "iopub.status.busy": "2023-09-11T14:02:54.693098Z",
     "iopub.status.idle": "2023-09-11T14:02:54.720285Z",
     "shell.execute_reply": "2023-09-11T14:02:54.719217Z"
    },
    "papermill": {
     "duration": 0.046987,
     "end_time": "2023-09-11T14:02:54.722443",
     "exception": false,
     "start_time": "2023-09-11T14:02:54.675456",
     "status": "completed"
    },
    "tags": []
   },
   "outputs": [
    {
     "data": {
      "text/plain": [
       "sentiment\n",
       "0    800000\n",
       "1    800000\n",
       "Name: count, dtype: int64"
      ]
     },
     "execution_count": 7,
     "metadata": {},
     "output_type": "execute_result"
    }
   ],
   "source": [
    "dataset['sentiment'].value_counts()"
   ]
  },
  {
   "cell_type": "markdown",
   "id": "e7777b9b",
   "metadata": {
    "papermill": {
     "duration": 0.016301,
     "end_time": "2023-09-11T14:02:54.755320",
     "exception": false,
     "start_time": "2023-09-11T14:02:54.739019",
     "status": "completed"
    },
    "tags": []
   },
   "source": [
    "**Preprocessing the Text**"
   ]
  },
  {
   "cell_type": "markdown",
   "id": "d3c91c78",
   "metadata": {
    "papermill": {
     "duration": 0.0165,
     "end_time": "2023-09-11T14:02:54.788309",
     "exception": false,
     "start_time": "2023-09-11T14:02:54.771809",
     "status": "completed"
    },
    "tags": []
   },
   "source": [
    "The Preprocessing steps taken are:\n",
    "\n",
    "1. **Lower Casing:** Each text is converted to lowercase.\n",
    "2. **Replacing URLs**: Links starting with 'http' or 'https' or 'www' are replaced by '<url>'.\n",
    "3. **Replacing Usernames:** Replace @Usernames with word '<user>'. [eg: '@Kaggle' to '<user>'].\n",
    "4. **Replacing Emojis:** Replace emojis by using a regex expression. [eg: ':)' to '<smile>']\n",
    "5. **Replacing Contractions:** Replacing contractions with their meanings. [eg: \"can't\" to 'can not']\n",
    "6. **Removing Non-Alphabets:** Replacing characters except Digits, Alphabets and pre-defined Symbols with a space."
   ]
  },
  {
   "cell_type": "code",
   "execution_count": 8,
   "id": "5b3e8c9c",
   "metadata": {
    "execution": {
     "iopub.execute_input": "2023-09-11T14:02:54.822289Z",
     "iopub.status.busy": "2023-09-11T14:02:54.821994Z",
     "iopub.status.idle": "2023-09-11T14:02:54.836765Z",
     "shell.execute_reply": "2023-09-11T14:02:54.835822Z"
    },
    "papermill": {
     "duration": 0.034283,
     "end_time": "2023-09-11T14:02:54.838825",
     "exception": false,
     "start_time": "2023-09-11T14:02:54.804542",
     "status": "completed"
    },
    "tags": []
   },
   "outputs": [],
   "source": [
    "# Reading contractions.csv and storing it as a dict.\n",
    "contractions = pd.read_csv('contractions.csv', index_col='Contraction')\n",
    "contractions.index = contractions.index.str.lower()\n",
    "contractions.Meaning = contractions.Meaning.str.lower()\n",
    "contractions_dict = contractions.to_dict()['Meaning']"
   ]
  },
  {
   "cell_type": "code",
   "execution_count": 9,
   "id": "5fcf411b",
   "metadata": {
    "execution": {
     "iopub.execute_input": "2023-09-11T14:02:54.913615Z",
     "iopub.status.busy": "2023-09-11T14:02:54.912766Z",
     "iopub.status.idle": "2023-09-11T14:02:54.924384Z",
     "shell.execute_reply": "2023-09-11T14:02:54.923371Z"
    },
    "papermill": {
     "duration": 0.03171,
     "end_time": "2023-09-11T14:02:54.926854",
     "exception": false,
     "start_time": "2023-09-11T14:02:54.895144",
     "status": "completed"
    },
    "tags": []
   },
   "outputs": [
    {
     "data": {
      "text/plain": [
       "{\"'aight\": 'alright',\n",
       " \"ain't\": 'is not',\n",
       " \"amn't\": 'am not',\n",
       " \"aren't\": 'are not',\n",
       " \"can't\": 'cannot',\n",
       " \"'cause\": 'because',\n",
       " \"could've\": 'could have',\n",
       " \"couldn't\": 'could not',\n",
       " \"couldn't've\": 'could not have',\n",
       " \"daren't\": 'dare not',\n",
       " \"daresn't\": 'dare not',\n",
       " \"dasn't\": 'dare not',\n",
       " \"didn't\": 'did not',\n",
       " \"doesn't\": 'does not',\n",
       " \"don't\": 'do not',\n",
       " 'dunno': 'do not know',\n",
       " \"d'ye\": 'do you',\n",
       " \"e'er\": 'ever',\n",
       " \"everybody's\": 'everybody is',\n",
       " \"everyone's\": 'everyone is',\n",
       " 'finna': 'fixing',\n",
       " \"g'day\": 'good day',\n",
       " 'gimme': 'give me',\n",
       " \"giv'n\": 'given',\n",
       " 'gonna': 'going to',\n",
       " \"gon't\": 'go not',\n",
       " 'gotta': 'got to',\n",
       " \"hadn't\": 'had not',\n",
       " \"had've\": 'had have',\n",
       " \"hasn't\": 'has not',\n",
       " \"haven't\": 'have not',\n",
       " \"he'd\": 'he had',\n",
       " \"he'll\": 'he will',\n",
       " \"he's\": 'he is',\n",
       " \"he've\": 'he have',\n",
       " \"how'd\": 'how did',\n",
       " 'howdy': 'how do you do',\n",
       " \"how'll\": 'how will',\n",
       " \"how're\": 'how are',\n",
       " \"how's\": 'how is',\n",
       " \"i'd\\ti\": 'had',\n",
       " \"i'd've\": 'i would have',\n",
       " \"i'll\": 'i will',\n",
       " \"i'm\": 'i am',\n",
       " \"i'm'a\": 'i am about to',\n",
       " \"i'm'o\": 'i am going to',\n",
       " 'innit': 'is it not',\n",
       " \"i've\": 'i have',\n",
       " \"isn't\": 'is not',\n",
       " \"it'd\": 'it would',\n",
       " \"it'll\": 'it will',\n",
       " \"it's\": 'it is',\n",
       " 'iunno': 'i do not know',\n",
       " \"let's\": 'let us',\n",
       " \"ma'am\": 'madam',\n",
       " \"mayn't\": 'may not',\n",
       " \"may've\": 'may have',\n",
       " 'methinks': 'me thinks',\n",
       " \"mightn't\": 'might not',\n",
       " \"might've\": 'might have',\n",
       " \"mustn't\": 'must not',\n",
       " \"mustn't've\": 'must not have',\n",
       " \"must've\": 'must have',\n",
       " \"needn't\": 'need not',\n",
       " \"ne'er\": 'never',\n",
       " \"o'clock\": 'of the clock',\n",
       " \"o'er\": 'over',\n",
       " \"ol'\": 'old',\n",
       " \"oughtn't\": 'ought not',\n",
       " \"'s\": 'is',\n",
       " \"shalln't\": 'shall not',\n",
       " \"shan't\": 'shall not',\n",
       " \"she'd\": 'she had',\n",
       " \"she'll\": 'she shall',\n",
       " \"she's\": 'she has',\n",
       " \"should've\": 'should have',\n",
       " \"shouldn't\": 'should not',\n",
       " \"shouldn't've\": 'should not have',\n",
       " \"somebody's\": 'somebody is',\n",
       " \"someone's\": 'someone is',\n",
       " \"something's\": 'something is',\n",
       " \"so're\": 'so are',\n",
       " \"that'll\": 'that will',\n",
       " \"that're\": 'that are',\n",
       " \"that's\": 'that is',\n",
       " \"that'd\": 'that would',\n",
       " \"there'd\": 'there would',\n",
       " \"there'll\": 'there will',\n",
       " \"there're\": 'there are',\n",
       " \"there's\": 'there is',\n",
       " \"these're\": 'these are',\n",
       " \"these've\": 'these have',\n",
       " \"they'd\": 'they would',\n",
       " \"they'll\": 'they will',\n",
       " \"they're\": 'they are',\n",
       " \"they've\": 'they have',\n",
       " \"this's\": 'this is',\n",
       " \"those're\": 'those are',\n",
       " \"those've\": 'those have',\n",
       " \"'tis\": 'it is',\n",
       " \"to've\": 'to have',\n",
       " \"'twas\": 'it was',\n",
       " 'wanna': 'want to',\n",
       " \"wasn't\": 'was not',\n",
       " \"we'd\": 'we would',\n",
       " \"we'd've\": 'we would have',\n",
       " \"we'll\": 'we will',\n",
       " \"we're\": 'we are',\n",
       " \"we've\": 'we have',\n",
       " \"weren't\": 'were not',\n",
       " \"what'd\": 'what did',\n",
       " \"what'll\": 'what will',\n",
       " \"what're\": 'what are',\n",
       " \"what's\": 'what is',\n",
       " \"what've\": 'what have',\n",
       " \"when's\": 'when is',\n",
       " \"where'd\": 'where did',\n",
       " \"where'll\": 'where will',\n",
       " \"where're\": 'where are',\n",
       " \"where's\": 'where is',\n",
       " \"where've\": 'where have',\n",
       " \"which'd\": 'which would',\n",
       " \"which'll\": 'which will',\n",
       " \"which're\": 'which are',\n",
       " \"which's\": 'which is',\n",
       " \"which've\": 'which have',\n",
       " \"who'd\": 'who would',\n",
       " \"who'd've\": 'who would have',\n",
       " \"who'll\": 'who will',\n",
       " \"who're\": 'who are',\n",
       " \"who's\": 'who is',\n",
       " \"who've\": 'who have',\n",
       " \"why'd\": 'why did',\n",
       " \"why're\": 'why are',\n",
       " \"why's\": 'why is',\n",
       " \"willn't\": 'will not ',\n",
       " \"won't\": 'will not',\n",
       " 'wonnot': 'will not ',\n",
       " \"would've\": 'would have',\n",
       " \"wouldn't\": 'would not',\n",
       " \"wouldn't've\": 'would not have',\n",
       " \"y'all\": 'you all ',\n",
       " \"y'all'd've\": 'you all would have ',\n",
       " \"y'all're\": 'you all are ',\n",
       " \"you'd\": 'you would',\n",
       " \"you'll\": 'you will',\n",
       " \"you're\": 'you are',\n",
       " \"you've\": 'you have'}"
      ]
     },
     "execution_count": 9,
     "metadata": {},
     "output_type": "execute_result"
    }
   ],
   "source": [
    "contractions_dict"
   ]
  },
  {
   "cell_type": "code",
   "execution_count": 10,
   "id": "5bb3b425",
   "metadata": {
    "execution": {
     "iopub.execute_input": "2023-09-11T14:02:54.962300Z",
     "iopub.status.busy": "2023-09-11T14:02:54.962002Z",
     "iopub.status.idle": "2023-09-11T14:02:54.971441Z",
     "shell.execute_reply": "2023-09-11T14:02:54.970539Z"
    },
    "papermill": {
     "duration": 0.029919,
     "end_time": "2023-09-11T14:02:54.973503",
     "exception": false,
     "start_time": "2023-09-11T14:02:54.943584",
     "status": "completed"
    },
    "tags": []
   },
   "outputs": [],
   "source": [
    "# Defining regex patterns.\n",
    "urlPattern        = r\"((http://)[^ ]*|(https://)[^ ]*|(www\\.)[^ ]*)\"\n",
    "userPattern       = '@[^\\s]+'\n",
    "hashtagPattern    = '#[^\\s]+'\n",
    "alphaPattern      = \"[^a-z0-9<>]\"\n",
    "sequencePattern   = r\"(.)\\1\\1+\"\n",
    "seqReplacePattern = r\"\\1\\1\"\n",
    "\n",
    "# Defining regex for emojis\n",
    "smileemoji        = r\"[8:=;]['`\\-]?[)d]+\"\n",
    "sademoji          = r\"[8:=;]['`\\-]?\\(+\"\n",
    "neutralemoji      = r\"[8:=;]['`\\-]?[\\/|l*]\"\n",
    "lolemoji          = r\"[8:=;]['`\\-]?p+\"\n",
    "\n",
    "def preprocess_apply(tweet):\n",
    "\n",
    "    tweet = tweet.lower()\n",
    "\n",
    "    # Replace all URls with '<url>'\n",
    "    tweet = re.sub(urlPattern,'<url>',tweet)\n",
    "    \n",
    "    # Replace @USERNAME to '<user>'.\n",
    "    tweet = re.sub(userPattern,'<user>', tweet)\n",
    "\n",
    "    # Replace all emojis.\n",
    "    tweet = re.sub(r'<3', '<heart>', tweet)\n",
    "    tweet = re.sub(smileemoji, '<smile>', tweet)\n",
    "    tweet = re.sub(sademoji, '<sadface>', tweet)\n",
    "    tweet = re.sub(neutralemoji, '<neutralface>', tweet)\n",
    "    tweet = re.sub(lolemoji, '<lolface>', tweet)\n",
    "\n",
    "    for contraction, replacement in contractions_dict.items():\n",
    "        tweet = tweet.replace(contraction, replacement)\n",
    "\n",
    "    # Remove non-alphanumeric and symbols\n",
    "    tweet = re.sub(alphaPattern, ' ', tweet)\n",
    "\n",
    "    # Adding space on either side of '/' to seperate words (After replacing URLS).\n",
    "    tweet = re.sub(r'/', ' / ', tweet)\n",
    "    return tweet"
   ]
  },
  {
   "cell_type": "code",
   "execution_count": 11,
   "id": "24dbffc4",
   "metadata": {
    "execution": {
     "iopub.execute_input": "2023-09-11T14:02:55.008283Z",
     "iopub.status.busy": "2023-09-11T14:02:55.007998Z",
     "iopub.status.idle": "2023-09-11T14:04:55.357381Z",
     "shell.execute_reply": "2023-09-11T14:04:55.356325Z"
    },
    "papermill": {
     "duration": 120.369849,
     "end_time": "2023-09-11T14:04:55.360176",
     "exception": false,
     "start_time": "2023-09-11T14:02:54.990327",
     "status": "completed"
    },
    "tags": []
   },
   "outputs": [],
   "source": [
    "dataset['processed_text'] = dataset.tweet.apply(preprocess_apply)"
   ]
  },
  {
   "cell_type": "code",
   "execution_count": 12,
   "id": "5bf7e71a",
   "metadata": {
    "execution": {
     "iopub.execute_input": "2023-09-11T14:04:55.395921Z",
     "iopub.status.busy": "2023-09-11T14:04:55.395635Z",
     "iopub.status.idle": "2023-09-11T14:04:55.405601Z",
     "shell.execute_reply": "2023-09-11T14:04:55.404672Z"
    },
    "papermill": {
     "duration": 0.030889,
     "end_time": "2023-09-11T14:04:55.408699",
     "exception": false,
     "start_time": "2023-09-11T14:04:55.377810",
     "status": "completed"
    },
    "tags": []
   },
   "outputs": [
    {
     "data": {
      "text/html": [
       "<div>\n",
       "<style scoped>\n",
       "    .dataframe tbody tr th:only-of-type {\n",
       "        vertical-align: middle;\n",
       "    }\n",
       "\n",
       "    .dataframe tbody tr th {\n",
       "        vertical-align: top;\n",
       "    }\n",
       "\n",
       "    .dataframe thead th {\n",
       "        text-align: right;\n",
       "    }\n",
       "</style>\n",
       "<table border=\"1\" class=\"dataframe\">\n",
       "  <thead>\n",
       "    <tr style=\"text-align: right;\">\n",
       "      <th></th>\n",
       "      <th>sentiment</th>\n",
       "      <th>tweet</th>\n",
       "      <th>processed_text</th>\n",
       "    </tr>\n",
       "  </thead>\n",
       "  <tbody>\n",
       "    <tr>\n",
       "      <th>0</th>\n",
       "      <td>0</td>\n",
       "      <td>@switchfoot http://twitpic.com/2y1zl - Awww, t...</td>\n",
       "      <td>&lt;user&gt; &lt;url&gt;   awww  thatis a bummer   you sho...</td>\n",
       "    </tr>\n",
       "    <tr>\n",
       "      <th>1</th>\n",
       "      <td>0</td>\n",
       "      <td>is upset that he can't update his Facebook by ...</td>\n",
       "      <td>is upset that he cannot update his facebook by...</td>\n",
       "    </tr>\n",
       "    <tr>\n",
       "      <th>2</th>\n",
       "      <td>0</td>\n",
       "      <td>@Kenichan I dived many times for the ball. Man...</td>\n",
       "      <td>&lt;user&gt; i dived many times for the ball  manage...</td>\n",
       "    </tr>\n",
       "    <tr>\n",
       "      <th>3</th>\n",
       "      <td>0</td>\n",
       "      <td>my whole body feels itchy and like its on fire</td>\n",
       "      <td>my whole body feels itchy and like its on fire</td>\n",
       "    </tr>\n",
       "    <tr>\n",
       "      <th>4</th>\n",
       "      <td>0</td>\n",
       "      <td>@nationwideclass no, it's not behaving at all....</td>\n",
       "      <td>&lt;user&gt; no  it is not behaving at all  i am mad...</td>\n",
       "    </tr>\n",
       "  </tbody>\n",
       "</table>\n",
       "</div>"
      ],
      "text/plain": [
       "   sentiment                                              tweet  \\\n",
       "0          0  @switchfoot http://twitpic.com/2y1zl - Awww, t...   \n",
       "1          0  is upset that he can't update his Facebook by ...   \n",
       "2          0  @Kenichan I dived many times for the ball. Man...   \n",
       "3          0    my whole body feels itchy and like its on fire    \n",
       "4          0  @nationwideclass no, it's not behaving at all....   \n",
       "\n",
       "                                      processed_text  \n",
       "0  <user> <url>   awww  thatis a bummer   you sho...  \n",
       "1  is upset that he cannot update his facebook by...  \n",
       "2  <user> i dived many times for the ball  manage...  \n",
       "3    my whole body feels itchy and like its on fire   \n",
       "4  <user> no  it is not behaving at all  i am mad...  "
      ]
     },
     "execution_count": 12,
     "metadata": {},
     "output_type": "execute_result"
    }
   ],
   "source": [
    "dataset.head()"
   ]
  },
  {
   "cell_type": "code",
   "execution_count": 13,
   "id": "4e1137e4",
   "metadata": {
    "execution": {
     "iopub.execute_input": "2023-09-11T14:04:55.446513Z",
     "iopub.status.busy": "2023-09-11T14:04:55.445753Z",
     "iopub.status.idle": "2023-09-11T14:04:55.451953Z",
     "shell.execute_reply": "2023-09-11T14:04:55.451049Z"
    },
    "papermill": {
     "duration": 0.027264,
     "end_time": "2023-09-11T14:04:55.454009",
     "exception": false,
     "start_time": "2023-09-11T14:04:55.426745",
     "status": "completed"
    },
    "tags": []
   },
   "outputs": [
    {
     "data": {
      "text/plain": [
       "\"@switchfoot http://twitpic.com/2y1zl - Awww, that's a bummer.  You shoulda got David Carr of Third Day to do it. ;D\""
      ]
     },
     "execution_count": 13,
     "metadata": {},
     "output_type": "execute_result"
    }
   ],
   "source": [
    "dataset['tweet'][0]"
   ]
  },
  {
   "cell_type": "code",
   "execution_count": 14,
   "id": "97e80d1c",
   "metadata": {
    "execution": {
     "iopub.execute_input": "2023-09-11T14:04:55.491141Z",
     "iopub.status.busy": "2023-09-11T14:04:55.490298Z",
     "iopub.status.idle": "2023-09-11T14:04:55.496456Z",
     "shell.execute_reply": "2023-09-11T14:04:55.495520Z"
    },
    "papermill": {
     "duration": 0.026511,
     "end_time": "2023-09-11T14:04:55.498719",
     "exception": false,
     "start_time": "2023-09-11T14:04:55.472208",
     "status": "completed"
    },
    "tags": []
   },
   "outputs": [
    {
     "data": {
      "text/plain": [
       "'<user> <url>   awww  thatis a bummer   you shoulda got david carr of third day to do it  <smile>'"
      ]
     },
     "execution_count": 14,
     "metadata": {},
     "output_type": "execute_result"
    }
   ],
   "source": [
    "dataset['processed_text'][0]"
   ]
  },
  {
   "cell_type": "markdown",
   "metadata": {},
   "source": [
    "# Split the Dataset"
   ]
  },
  {
   "cell_type": "code",
   "execution_count": 15,
   "id": "922e8dab",
   "metadata": {
    "execution": {
     "iopub.execute_input": "2023-09-11T14:04:57.510824Z",
     "iopub.status.busy": "2023-09-11T14:04:57.509970Z",
     "iopub.status.idle": "2023-09-11T14:04:58.239536Z",
     "shell.execute_reply": "2023-09-11T14:04:58.238436Z"
    },
    "papermill": {
     "duration": 0.751467,
     "end_time": "2023-09-11T14:04:58.242229",
     "exception": false,
     "start_time": "2023-09-11T14:04:57.490762",
     "status": "completed"
    },
    "tags": []
   },
   "outputs": [],
   "source": [
    "X_data, y_data = np.array(dataset['processed_text']), np.array(dataset['sentiment'])\n",
    "\n",
    "X_train, X_test, y_train, y_test = train_test_split(X_data, y_data, test_size=0.3, random_state=32, stratify=y_data)"
   ]
  },
  {
   "cell_type": "code",
   "execution_count": 16,
   "id": "18902128",
   "metadata": {
    "execution": {
     "iopub.execute_input": "2023-09-11T14:04:58.279729Z",
     "iopub.status.busy": "2023-09-11T14:04:58.279428Z",
     "iopub.status.idle": "2023-09-11T14:04:58.285141Z",
     "shell.execute_reply": "2023-09-11T14:04:58.284284Z"
    },
    "papermill": {
     "duration": 0.026837,
     "end_time": "2023-09-11T14:04:58.287088",
     "exception": false,
     "start_time": "2023-09-11T14:04:58.260251",
     "status": "completed"
    },
    "tags": []
   },
   "outputs": [
    {
     "data": {
      "text/plain": [
       "((1120000,), (480000,))"
      ]
     },
     "execution_count": 16,
     "metadata": {},
     "output_type": "execute_result"
    }
   ],
   "source": [
    "X_train.shape, X_test.shape"
   ]
  },
  {
   "cell_type": "code",
   "execution_count": 17,
   "id": "7f083c82",
   "metadata": {
    "execution": {
     "iopub.execute_input": "2023-09-11T14:04:58.323780Z",
     "iopub.status.busy": "2023-09-11T14:04:58.323506Z",
     "iopub.status.idle": "2023-09-11T14:04:58.329279Z",
     "shell.execute_reply": "2023-09-11T14:04:58.328310Z"
    },
    "papermill": {
     "duration": 0.026685,
     "end_time": "2023-09-11T14:04:58.331271",
     "exception": false,
     "start_time": "2023-09-11T14:04:58.304586",
     "status": "completed"
    },
    "tags": []
   },
   "outputs": [
    {
     "data": {
      "text/plain": [
       "((1120000,), (480000,))"
      ]
     },
     "execution_count": 17,
     "metadata": {},
     "output_type": "execute_result"
    }
   ],
   "source": [
    "y_train.shape, y_test.shape"
   ]
  },
  {
   "cell_type": "markdown",
   "metadata": {},
   "source": [
    "# Construction of Embedding Matrix\n",
    "Steps are:\n",
    "\n",
    "    1.Word Embedding\n",
    "\n",
    "    2. Tokenization\n",
    "    \n",
    "    3. Adding Pad Sequence"
   ]
  },
  {
   "cell_type": "markdown",
   "id": "ff387621",
   "metadata": {
    "papermill": {
     "duration": 0.018075,
     "end_time": "2023-09-11T14:04:58.367319",
     "exception": false,
     "start_time": "2023-09-11T14:04:58.349244",
     "status": "completed"
    },
    "tags": []
   },
   "source": [
    "### Creating Word Embedding Using Word2Vec"
   ]
  },
  {
   "cell_type": "code",
   "execution_count": 18,
   "id": "97794167",
   "metadata": {
    "execution": {
     "iopub.execute_input": "2023-09-11T14:04:58.405235Z",
     "iopub.status.busy": "2023-09-11T14:04:58.404548Z",
     "iopub.status.idle": "2023-09-11T14:05:13.305240Z",
     "shell.execute_reply": "2023-09-11T14:05:13.304183Z"
    },
    "papermill": {
     "duration": 14.92208,
     "end_time": "2023-09-11T14:05:13.307753",
     "exception": false,
     "start_time": "2023-09-11T14:04:58.385673",
     "status": "completed"
    },
    "tags": []
   },
   "outputs": [],
   "source": [
    "from gensim.models import Word2Vec\n",
    "\n",
    "Embedding_dimensions = 100\n",
    "\n",
    "#creating the List of words for training data\n",
    "Word2Vec_training_data = list(map(lambda x: x.split(), X_train))"
   ]
  },
  {
   "cell_type": "code",
   "execution_count": 19,
   "id": "df55e14b",
   "metadata": {
    "execution": {
     "iopub.execute_input": "2023-09-11T14:05:13.346880Z",
     "iopub.status.busy": "2023-09-11T14:05:13.345721Z",
     "iopub.status.idle": "2023-09-11T14:05:13.353172Z",
     "shell.execute_reply": "2023-09-11T14:05:13.352174Z"
    },
    "papermill": {
     "duration": 0.028759,
     "end_time": "2023-09-11T14:05:13.355119",
     "exception": false,
     "start_time": "2023-09-11T14:05:13.326360",
     "status": "completed"
    },
    "tags": []
   },
   "outputs": [
    {
     "data": {
      "text/plain": [
       "['i',\n",
       " 'keep',\n",
       " 'checking',\n",
       " 'my',\n",
       " 'phone',\n",
       " 'for',\n",
       " 'msgs',\n",
       " 'then',\n",
       " 'remembering',\n",
       " 'it',\n",
       " 'is',\n",
       " 'not',\n",
       " 'on',\n",
       " 'silent',\n",
       " 'any',\n",
       " 'more',\n",
       " 'nigelnofriends']"
      ]
     },
     "execution_count": 19,
     "metadata": {},
     "output_type": "execute_result"
    }
   ],
   "source": [
    "Word2Vec_training_data[0]"
   ]
  },
  {
   "cell_type": "code",
   "execution_count": 20,
   "id": "bf222a24",
   "metadata": {
    "execution": {
     "iopub.execute_input": "2023-09-11T14:05:13.392413Z",
     "iopub.status.busy": "2023-09-11T14:05:13.391590Z",
     "iopub.status.idle": "2023-09-11T14:06:56.884078Z",
     "shell.execute_reply": "2023-09-11T14:06:56.883094Z"
    },
    "papermill": {
     "duration": 103.513789,
     "end_time": "2023-09-11T14:06:56.886670",
     "exception": false,
     "start_time": "2023-09-11T14:05:13.372881",
     "status": "completed"
    },
    "tags": []
   },
   "outputs": [],
   "source": [
    "word2vec_model = Word2Vec(Word2Vec_training_data,\n",
    "                        vector_size=Embedding_dimensions,\n",
    "                        workers=8,\n",
    "                        min_count=5)"
   ]
  },
  {
   "cell_type": "code",
   "execution_count": 21,
   "id": "0ab75636",
   "metadata": {
    "execution": {
     "iopub.execute_input": "2023-09-11T14:06:56.925535Z",
     "iopub.status.busy": "2023-09-11T14:06:56.925233Z",
     "iopub.status.idle": "2023-09-11T14:06:56.933402Z",
     "shell.execute_reply": "2023-09-11T14:06:56.932416Z"
    },
    "papermill": {
     "duration": 0.030886,
     "end_time": "2023-09-11T14:06:56.936685",
     "exception": false,
     "start_time": "2023-09-11T14:06:56.905799",
     "status": "completed"
    },
    "tags": []
   },
   "outputs": [
    {
     "data": {
      "text/plain": [
       "array([-0.5405036 ,  1.6441685 ,  0.54598355,  1.5070688 ,  2.702674  ,\n",
       "       -0.41091958,  1.1392932 , -0.3064294 ,  0.05259093,  0.25381744,\n",
       "        0.5884541 , -0.02802609, -0.9162665 , -0.6248418 , -0.80790424,\n",
       "        0.04709477,  2.4940364 ,  0.07873262, -1.4607021 ,  1.2254896 ,\n",
       "       -0.06806345, -1.1281004 , -0.2846424 ,  0.74957955, -0.93601996,\n",
       "       -0.27280873, -1.46309   , -1.3860933 ,  0.8524527 ,  1.2181547 ,\n",
       "       -0.05021529, -0.9194904 ,  2.014478  , -0.47694442,  1.0451741 ,\n",
       "       -0.27951923,  1.6602069 ,  0.29806057,  0.2951726 , -0.4084062 ,\n",
       "       -1.8582581 , -0.86441255, -1.4716915 ,  1.2801223 , -0.16311353,\n",
       "        1.3116359 ,  0.07192598, -1.1676611 ,  0.9905096 , -0.7324635 ,\n",
       "       -0.30750343, -1.5038117 ,  0.8901792 , -0.4778512 ,  1.2813741 ,\n",
       "       -0.14205676,  0.03791191, -0.74629563,  0.9905731 ,  1.2515986 ,\n",
       "       -1.5963403 ,  1.0087422 ,  1.9365371 , -0.8795454 , -0.28215486,\n",
       "       -0.32059833,  1.4584459 ,  1.3519338 , -2.3920674 ,  2.92959   ,\n",
       "        0.92064613, -0.6887887 ,  1.1391107 , -2.4038296 , -0.41897464,\n",
       "       -1.4679551 , -0.95039487,  1.0115678 , -0.32652912, -2.7284477 ,\n",
       "       -0.83295774,  0.45481312,  0.32402045, -1.033673  , -1.2127769 ,\n",
       "       -0.3816431 ,  1.3278813 , -0.7933504 , -0.14021006,  0.04909255,\n",
       "        1.8406696 ,  0.05926278,  0.7706154 ,  0.12012628, -0.30436245,\n",
       "        0.60311043,  0.6862292 ,  1.7120569 , -1.5170518 ,  0.24747212],\n",
       "      dtype=float32)"
      ]
     },
     "execution_count": 21,
     "metadata": {},
     "output_type": "execute_result"
    }
   ],
   "source": [
    "word2vec_model.wv[1]"
   ]
  },
  {
   "cell_type": "markdown",
   "metadata": {},
   "source": [
    "### Tokenization"
   ]
  },
  {
   "cell_type": "code",
   "execution_count": 22,
   "id": "66e85d35",
   "metadata": {
    "execution": {
     "iopub.execute_input": "2023-09-11T14:07:11.629344Z",
     "iopub.status.busy": "2023-09-11T14:07:11.627428Z",
     "iopub.status.idle": "2023-09-11T14:07:38.641334Z",
     "shell.execute_reply": "2023-09-11T14:07:38.639745Z"
    },
    "papermill": {
     "duration": 27.037254,
     "end_time": "2023-09-11T14:07:38.643790",
     "exception": false,
     "start_time": "2023-09-11T14:07:11.606536",
     "status": "completed"
    },
    "tags": []
   },
   "outputs": [],
   "source": [
    "vocab_length = 60000\n",
    "\n",
    "tokenizer = Tokenizer(filters=\"\", lower=False, oov_token=\"<oov>\")\n",
    "tokenizer.fit_on_texts(X_data)\n",
    "tokenizer.num_words = vocab_length\n",
    "# print(\"Tokenizer vocab length:\", vocab_length)"
   ]
  },
  {
   "cell_type": "markdown",
   "metadata": {},
   "source": [
    "### Padding"
   ]
  },
  {
   "cell_type": "code",
   "execution_count": 23,
   "id": "43cf6d7f",
   "metadata": {
    "execution": {
     "iopub.execute_input": "2023-09-11T14:07:38.682868Z",
     "iopub.status.busy": "2023-09-11T14:07:38.681856Z",
     "iopub.status.idle": "2023-09-11T14:07:38.687310Z",
     "shell.execute_reply": "2023-09-11T14:07:38.686438Z"
    },
    "papermill": {
     "duration": 0.026796,
     "end_time": "2023-09-11T14:07:38.689431",
     "exception": false,
     "start_time": "2023-09-11T14:07:38.662635",
     "status": "completed"
    },
    "tags": []
   },
   "outputs": [],
   "source": [
    "input_length = 60"
   ]
  },
  {
   "cell_type": "code",
   "execution_count": 24,
   "id": "8082d074",
   "metadata": {
    "execution": {
     "iopub.execute_input": "2023-09-11T14:07:38.727665Z",
     "iopub.status.busy": "2023-09-11T14:07:38.726813Z",
     "iopub.status.idle": "2023-09-11T14:08:10.454986Z",
     "shell.execute_reply": "2023-09-11T14:08:10.454015Z"
    },
    "papermill": {
     "duration": 31.768217,
     "end_time": "2023-09-11T14:08:10.475812",
     "exception": false,
     "start_time": "2023-09-11T14:07:38.707595",
     "status": "completed"
    },
    "tags": []
   },
   "outputs": [
    {
     "name": "stdout",
     "output_type": "stream",
     "text": [
      "X_train.shape: (1120000, 60)\n",
      "X_test.shape : (480000, 60)\n"
     ]
    }
   ],
   "source": [
    "X_train = pad_sequences(tokenizer.texts_to_sequences(X_train), maxlen=input_length)\n",
    "X_test  = pad_sequences(tokenizer.texts_to_sequences(X_test) , maxlen=input_length)\n",
    "\n",
    "print(\"X_train.shape:\", X_train.shape)\n",
    "print(\"X_test.shape :\", X_test.shape)"
   ]
  },
  {
   "cell_type": "code",
   "execution_count": 25,
   "id": "50877068",
   "metadata": {
    "execution": {
     "iopub.execute_input": "2023-09-11T14:08:10.515404Z",
     "iopub.status.busy": "2023-09-11T14:08:10.513805Z",
     "iopub.status.idle": "2023-09-11T14:08:10.522208Z",
     "shell.execute_reply": "2023-09-11T14:08:10.521258Z"
    },
    "papermill": {
     "duration": 0.03025,
     "end_time": "2023-09-11T14:08:10.524414",
     "exception": false,
     "start_time": "2023-09-11T14:08:10.494164",
     "status": "completed"
    },
    "tags": []
   },
   "outputs": [],
   "source": [
    "# X_train[0]"
   ]
  },
  {
   "cell_type": "code",
   "execution_count": 26,
   "id": "5599ecc4",
   "metadata": {
    "execution": {
     "iopub.execute_input": "2023-09-11T14:08:10.564780Z",
     "iopub.status.busy": "2023-09-11T14:08:10.563357Z",
     "iopub.status.idle": "2023-09-11T14:08:10.619225Z",
     "shell.execute_reply": "2023-09-11T14:08:10.618174Z"
    },
    "papermill": {
     "duration": 0.077503,
     "end_time": "2023-09-11T14:08:10.621462",
     "exception": false,
     "start_time": "2023-09-11T14:08:10.543959",
     "status": "completed"
    },
    "tags": []
   },
   "outputs": [],
   "source": [
    "# second_key, second_value = list(tokenizer.word_index.items())[1]\n",
    "# print(\"Second Key:\", second_key)\n",
    "# print(\"Second Value:\", second_value)"
   ]
  },
  {
   "cell_type": "markdown",
   "metadata": {},
   "source": [
    "### Embedding Matrix"
   ]
  },
  {
   "cell_type": "code",
   "execution_count": 27,
   "id": "562f21b6",
   "metadata": {
    "execution": {
     "iopub.execute_input": "2023-09-11T14:08:10.661006Z",
     "iopub.status.busy": "2023-09-11T14:08:10.660450Z",
     "iopub.status.idle": "2023-09-11T14:08:11.225455Z",
     "shell.execute_reply": "2023-09-11T14:08:11.224001Z"
    },
    "papermill": {
     "duration": 0.587391,
     "end_time": "2023-09-11T14:08:11.227923",
     "exception": false,
     "start_time": "2023-09-11T14:08:10.640532",
     "status": "completed"
    },
    "tags": []
   },
   "outputs": [
    {
     "name": "stdout",
     "output_type": "stream",
     "text": [
      "Embedding Matrix Shape: (60000, 100)\n"
     ]
    }
   ],
   "source": [
    "embedding_matrix = np.zeros((vocab_length, Embedding_dimensions))\n",
    "\n",
    "for word, token in tokenizer.word_index.items():\n",
    "    if word2vec_model.wv.__contains__(word):\n",
    "        embedding_matrix[token] = word2vec_model.wv.__getitem__(word)\n",
    "\n",
    "print(\"Embedding Matrix Shape:\", embedding_matrix.shape)"
   ]
  },
  {
   "cell_type": "code",
   "execution_count": 28,
   "id": "186f367a",
   "metadata": {
    "execution": {
     "iopub.execute_input": "2023-09-11T14:08:11.268288Z",
     "iopub.status.busy": "2023-09-11T14:08:11.267936Z",
     "iopub.status.idle": "2023-09-11T14:08:11.315130Z",
     "shell.execute_reply": "2023-09-11T14:08:11.314086Z"
    },
    "papermill": {
     "duration": 0.070821,
     "end_time": "2023-09-11T14:08:11.317613",
     "exception": false,
     "start_time": "2023-09-11T14:08:11.246792",
     "status": "completed"
    },
    "tags": []
   },
   "outputs": [],
   "source": [
    "# Reverse the mapping of tokens to words\n",
    "index_to_word = {token: word for word, token in tokenizer.word_index.items()}\n",
    "# fifth_word = index_to_word[5]\n",
    "# fifth_word"
   ]
  },
  {
   "cell_type": "code",
   "execution_count": 29,
   "id": "d119f3b6",
   "metadata": {
    "execution": {
     "iopub.execute_input": "2023-09-11T14:08:11.356542Z",
     "iopub.status.busy": "2023-09-11T14:08:11.356200Z",
     "iopub.status.idle": "2023-09-11T14:08:11.363689Z",
     "shell.execute_reply": "2023-09-11T14:08:11.362688Z"
    },
    "papermill": {
     "duration": 0.029242,
     "end_time": "2023-09-11T14:08:11.365987",
     "exception": false,
     "start_time": "2023-09-11T14:08:11.336745",
     "status": "completed"
    },
    "tags": []
   },
   "outputs": [],
   "source": [
    "# embedding_matrix[5]"
   ]
  },
  {
   "cell_type": "code",
   "execution_count": 30,
   "id": "1309c45e",
   "metadata": {
    "execution": {
     "iopub.execute_input": "2023-09-11T14:08:11.405703Z",
     "iopub.status.busy": "2023-09-11T14:08:11.404920Z",
     "iopub.status.idle": "2023-09-11T14:08:11.431607Z",
     "shell.execute_reply": "2023-09-11T14:08:11.430472Z"
    },
    "papermill": {
     "duration": 0.050012,
     "end_time": "2023-09-11T14:08:11.435304",
     "exception": false,
     "start_time": "2023-09-11T14:08:11.385292",
     "status": "completed"
    },
    "tags": []
   },
   "outputs": [],
   "source": [
    "# word2vec_model.wv.most_similar('man')"
   ]
  },
  {
   "cell_type": "markdown",
   "id": "59a9d7c4",
   "metadata": {
    "papermill": {
     "duration": 0.045496,
     "end_time": "2023-09-11T14:08:11.527954",
     "exception": false,
     "start_time": "2023-09-11T14:08:11.482458",
     "status": "completed"
    },
    "tags": []
   },
   "source": [
    "# Simple RNN\n",
    "\n",
    "1. Define the Model Architecture\n",
    "\n",
    "2. Train on training data\n",
    "\n",
    "3. Evaluate model's performance\n",
    "\n",
    "4. Save the model\n",
    "\n",
    "5. Test on new unseen data"
   ]
  },
  {
   "cell_type": "code",
   "execution_count": 31,
   "id": "4fe51922",
   "metadata": {
    "execution": {
     "iopub.execute_input": "2023-09-11T14:08:11.632982Z",
     "iopub.status.busy": "2023-09-11T14:08:11.632684Z",
     "iopub.status.idle": "2023-09-11T14:08:11.638622Z",
     "shell.execute_reply": "2023-09-11T14:08:11.637596Z"
    },
    "papermill": {
     "duration": 0.028746,
     "end_time": "2023-09-11T14:08:11.640828",
     "exception": false,
     "start_time": "2023-09-11T14:08:11.612082",
     "status": "completed"
    },
    "tags": []
   },
   "outputs": [],
   "source": [
    "def getModel():\n",
    "    embedding_layer = Embedding(input_dim = vocab_length,\n",
    "                                output_dim = Embedding_dimensions,\n",
    "                                weights=[embedding_matrix],\n",
    "                                input_length=input_length,\n",
    "                                trainable=False)\n",
    "\n",
    "    model = Sequential([\n",
    "        embedding_layer,\n",
    "        SimpleRNN(100, return_sequences=False),\n",
    "        Dense(16, activation='relu'),\n",
    "        Dense(1, activation='sigmoid'),\n",
    "    ],\n",
    "    name=\"Sentiment_Model_Simple_RNN\")\n",
    "    return model"
   ]
  },
  {
   "cell_type": "code",
   "execution_count": 32,
   "id": "57d7b293",
   "metadata": {
    "execution": {
     "iopub.execute_input": "2023-09-11T14:08:11.680405Z",
     "iopub.status.busy": "2023-09-11T14:08:11.680097Z",
     "iopub.status.idle": "2023-09-11T14:08:18.137360Z",
     "shell.execute_reply": "2023-09-11T14:08:18.136516Z"
    },
    "papermill": {
     "duration": 6.486823,
     "end_time": "2023-09-11T14:08:18.147088",
     "exception": false,
     "start_time": "2023-09-11T14:08:11.660265",
     "status": "completed"
    },
    "tags": []
   },
   "outputs": [
    {
     "name": "stderr",
     "output_type": "stream",
     "text": [
      "2023-12-06 10:46:10.110199: W tensorflow/core/common_runtime/gpu/gpu_device.cc:1960] Cannot dlopen some GPU libraries. Please make sure the missing libraries mentioned above are installed properly if you would like to use GPU. Follow the guide at https://www.tensorflow.org/install/gpu for how to download and setup the required libraries for your platform.\n",
      "Skipping registering GPU devices...\n"
     ]
    },
    {
     "name": "stdout",
     "output_type": "stream",
     "text": [
      "Model: \"Sentiment_Model_Simple_RNN\"\n",
      "_________________________________________________________________\n",
      " Layer (type)                Output Shape              Param #   \n",
      "=================================================================\n",
      " embedding (Embedding)       (None, 60, 100)           6000000   \n",
      "                                                                 \n",
      " simple_rnn (SimpleRNN)      (None, 100)               20100     \n",
      "                                                                 \n",
      " dense (Dense)               (None, 16)                1616      \n",
      "                                                                 \n",
      " dense_1 (Dense)             (None, 1)                 17        \n",
      "                                                                 \n",
      "=================================================================\n",
      "Total params: 6021733 (22.97 MB)\n",
      "Trainable params: 21733 (84.89 KB)\n",
      "Non-trainable params: 6000000 (22.89 MB)\n",
      "_________________________________________________________________\n"
     ]
    }
   ],
   "source": [
    "training_model = getModel()\n",
    "training_model.summary()"
   ]
  },
  {
   "cell_type": "code",
   "execution_count": 33,
   "id": "cec16eb9",
   "metadata": {
    "execution": {
     "iopub.execute_input": "2023-09-11T14:08:18.693389Z",
     "iopub.status.busy": "2023-09-11T14:08:18.692248Z",
     "iopub.status.idle": "2023-09-11T14:08:18.710950Z",
     "shell.execute_reply": "2023-09-11T14:08:18.710076Z"
    },
    "papermill": {
     "duration": 0.042322,
     "end_time": "2023-09-11T14:08:18.712889",
     "exception": false,
     "start_time": "2023-09-11T14:08:18.670567",
     "status": "completed"
    },
    "tags": []
   },
   "outputs": [],
   "source": [
    "training_model.compile(loss='binary_crossentropy', optimizer='adam', metrics=['accuracy'])"
   ]
  },
  {
   "cell_type": "code",
   "execution_count": 34,
   "id": "fec98ee3",
   "metadata": {
    "execution": {
     "iopub.execute_input": "2023-09-11T14:08:18.755415Z",
     "iopub.status.busy": "2023-09-11T14:08:18.755119Z",
     "iopub.status.idle": "2023-09-11T14:20:40.112420Z",
     "shell.execute_reply": "2023-09-11T14:20:40.111392Z"
    },
    "papermill": {
     "duration": 741.380932,
     "end_time": "2023-09-11T14:20:40.114582",
     "exception": false,
     "start_time": "2023-09-11T14:08:18.733650",
     "status": "completed"
    },
    "tags": []
   },
   "outputs": [
    {
     "name": "stdout",
     "output_type": "stream",
     "text": [
      "Epoch 1/12\n",
      "575/985 [================>.............] - ETA: 34s - loss: 0.5151 - accuracy: 0.7479"
     ]
    },
    {
     "name": "stdout",
     "output_type": "stream",
     "text": [
      "985/985 [==============================] - 91s 90ms/step - loss: 0.4932 - accuracy: 0.7622 - val_loss: 0.4516 - val_accuracy: 0.7895\n",
      "Epoch 2/12\n",
      "985/985 [==============================] - 87s 89ms/step - loss: 0.4489 - accuracy: 0.7902 - val_loss: 0.4454 - val_accuracy: 0.7942\n",
      "Epoch 3/12\n",
      "985/985 [==============================] - 87s 89ms/step - loss: 0.4457 - accuracy: 0.7919 - val_loss: 0.4365 - val_accuracy: 0.7989\n",
      "Epoch 4/12\n",
      "985/985 [==============================] - 87s 89ms/step - loss: 0.4326 - accuracy: 0.8006 - val_loss: 0.4316 - val_accuracy: 0.8010\n",
      "Epoch 5/12\n",
      "985/985 [==============================] - 87s 89ms/step - loss: 0.4223 - accuracy: 0.8056 - val_loss: 0.4221 - val_accuracy: 0.8047\n",
      "Epoch 6/12\n",
      "985/985 [==============================] - 87s 89ms/step - loss: 0.4154 - accuracy: 0.8090 - val_loss: 0.4135 - val_accuracy: 0.8097\n",
      "Epoch 7/12\n",
      "985/985 [==============================] - 87s 89ms/step - loss: 0.4103 - accuracy: 0.8116 - val_loss: 0.4134 - val_accuracy: 0.8096\n",
      "Epoch 8/12\n",
      "985/985 [==============================] - 87s 89ms/step - loss: 0.4077 - accuracy: 0.8136 - val_loss: 0.4199 - val_accuracy: 0.8053\n",
      "Epoch 9/12\n",
      "985/985 [==============================] - 87s 89ms/step - loss: 0.4165 - accuracy: 0.8092 - val_loss: 0.4165 - val_accuracy: 0.8106\n",
      "Epoch 10/12\n",
      "985/985 [==============================] - 87s 89ms/step - loss: 0.4065 - accuracy: 0.8150 - val_loss: 0.4125 - val_accuracy: 0.8111\n",
      "Epoch 11/12\n",
      "985/985 [==============================] - 87s 89ms/step - loss: 0.3983 - accuracy: 0.8188 - val_loss: 0.4121 - val_accuracy: 0.8094\n",
      "Epoch 12/12\n",
      "985/985 [==============================] - 88s 89ms/step - loss: 0.3951 - accuracy: 0.8208 - val_loss: 0.4056 - val_accuracy: 0.8153\n"
     ]
    }
   ],
   "source": [
    "history = training_model.fit(\n",
    "    X_train, y_train,\n",
    "    batch_size=1024,\n",
    "    epochs=12,\n",
    "    validation_split=0.1,\n",
    "    verbose=1,\n",
    ")"
   ]
  },
  {
   "cell_type": "markdown",
   "id": "0a6dd0af",
   "metadata": {
    "papermill": {
     "duration": 0.99633,
     "end_time": "2023-09-11T14:20:42.047618",
     "exception": false,
     "start_time": "2023-09-11T14:20:41.051288",
     "status": "completed"
    },
    "tags": []
   },
   "source": [
    "**Evaluating the Model**"
   ]
  },
  {
   "cell_type": "code",
   "execution_count": 35,
   "id": "c31145d8",
   "metadata": {
    "execution": {
     "iopub.execute_input": "2023-09-11T14:20:43.982759Z",
     "iopub.status.busy": "2023-09-11T14:20:43.982402Z",
     "iopub.status.idle": "2023-09-11T14:20:44.522827Z",
     "shell.execute_reply": "2023-09-11T14:20:44.521882Z"
    },
    "papermill": {
     "duration": 1.54362,
     "end_time": "2023-09-11T14:20:44.525419",
     "exception": false,
     "start_time": "2023-09-11T14:20:42.981799",
     "status": "completed"
    },
    "tags": []
   },
   "outputs": [],
   "source": [
    "from sklearn.metrics import confusion_matrix\n",
    "import seaborn as sns\n",
    "import matplotlib.pyplot as plt\n",
    "\n",
    "def ConfusionMatrix(y_pred, y_test):\n",
    "    # Compute and plot the Confusion matrix\n",
    "    cf_matrix = confusion_matrix(y_test, y_pred)\n",
    "\n",
    "    categories  = ['Negative','Positive']\n",
    "    group_names = ['True Neg','False Pos', 'False Neg','True Pos']\n",
    "    group_percentages = ['{0:.2%}'.format(value) for value in cf_matrix.flatten() / np.sum(cf_matrix)]\n",
    "\n",
    "    labels = [f'{v1}\\n{v2}' for v1, v2 in zip(group_names,group_percentages)]\n",
    "    labels = np.asarray(labels).reshape(2,2)\n",
    "\n",
    "    sns.heatmap(cf_matrix, annot = labels, cmap = 'Blues',fmt = '',\n",
    "                xticklabels = categories, yticklabels = categories)\n",
    "\n",
    "    plt.xlabel(\"Predicted values\", fontdict = {'size':14}, labelpad = 10)\n",
    "    plt.ylabel(\"Actual values\"   , fontdict = {'size':14}, labelpad = 10)\n",
    "    plt.title (\"Confusion Matrix\", fontdict = {'size':18}, pad = 20)"
   ]
  },
  {
   "cell_type": "code",
   "execution_count": 36,
   "id": "dafe3e9f",
   "metadata": {
    "execution": {
     "iopub.execute_input": "2023-09-11T14:20:46.508912Z",
     "iopub.status.busy": "2023-09-11T14:20:46.508020Z",
     "iopub.status.idle": "2023-09-11T14:22:54.156450Z",
     "shell.execute_reply": "2023-09-11T14:22:54.155514Z"
    },
    "papermill": {
     "duration": 129.856976,
     "end_time": "2023-09-11T14:22:55.329546",
     "exception": false,
     "start_time": "2023-09-11T14:20:45.472570",
     "status": "completed"
    },
    "tags": []
   },
   "outputs": [
    {
     "name": "stdout",
     "output_type": "stream",
     "text": [
      " 2011/15000 [===>..........................] - ETA: 1:56"
     ]
    },
    {
     "name": "stdout",
     "output_type": "stream",
     "text": [
      "15000/15000 [==============================] - 136s 9ms/step\n",
      "Test accuracy_SimpleRNN: 0.8152520833333333\n",
      "Confusion Matrix: Simple RNN\n"
     ]
    },
    {
     "data": {
      "image/png": "[encoded data removed]",
      "text/plain": [
       "<Figure size 640x480 with 2 Axes>"
      ]
     },
     "metadata": {},
     "output_type": "display_data"
    }
   ],
   "source": [
    "# Predicting on the Test dataset.\n",
    "y_pred = training_model.predict(X_test)\n",
    "\n",
    "# Converting prediction to reflect the sentiment predicted.\n",
    "y_pred = np.where(y_pred>=0.5, 1, 0)\n",
    "\n",
    "# Evaluate accuracy\n",
    "accuracy = accuracy_score(y_test, y_pred)\n",
    "print(f\"Test accuracy_SimpleRNN: {accuracy}\")\n",
    "\n",
    "# Printing out the Evaluation metrics. \n",
    "print (\"Confusion Matrix: Simple RNN\")\n",
    "ConfusionMatrix(y_pred, y_test)"
   ]
  },
  {
   "cell_type": "markdown",
   "id": "c7fa9901",
   "metadata": {
    "papermill": {
     "duration": 1.175981,
     "end_time": "2023-09-11T14:23:04.644141",
     "exception": false,
     "start_time": "2023-09-11T14:23:03.468160",
     "status": "completed"
    },
    "tags": []
   },
   "source": [
    "**SAVING THE MODEL**"
   ]
  },
  {
   "cell_type": "code",
   "execution_count": 37,
   "id": "38d9152b",
   "metadata": {
    "execution": {
     "iopub.execute_input": "2023-09-11T14:23:06.941394Z",
     "iopub.status.busy": "2023-09-11T14:23:06.941002Z",
     "iopub.status.idle": "2023-09-11T14:23:12.774734Z",
     "shell.execute_reply": "2023-09-11T14:23:12.773727Z"
    },
    "papermill": {
     "duration": 7.013683,
     "end_time": "2023-09-11T14:23:12.777498",
     "exception": false,
     "start_time": "2023-09-11T14:23:05.763815",
     "status": "completed"
    },
    "tags": []
   },
   "outputs": [
    {
     "name": "stdout",
     "output_type": "stream",
     "text": [
      "INFO:tensorflow:Assets written to: Saved Models/Sentiment-SimpleRNN/assets\n"
     ]
    },
    {
     "name": "stderr",
     "output_type": "stream",
     "text": [
      "INFO:tensorflow:Assets written to: Saved Models/Sentiment-SimpleRNN/assets\n"
     ]
    }
   ],
   "source": [
    " # Saving Word2Vec-Model\n",
    "word2vec_model.wv.save('Word2Vec-twitter-100')\n",
    "word2vec_model.wv.save_word2vec_format('Word2Vec-twitter-100-trainable')\n",
    "\n",
    "# Saving the tokenizer\n",
    "with open('Tokenizer.pickle', 'wb') as file:\n",
    "    pickle.dump(tokenizer, file)\n",
    "\n",
    "# Saving the TF-Model.\n",
    "training_model.save('Saved Models/Sentiment-SimpleRNN')\n",
    "training_model.save_weights(\"Model Weights/weights_SimpleRNN\")"
   ]
  },
  {
   "cell_type": "markdown",
   "id": "90018247",
   "metadata": {
    "papermill": {
     "duration": 1.635991,
     "end_time": "2023-09-11T14:23:15.640380",
     "exception": false,
     "start_time": "2023-09-11T14:23:14.004389",
     "status": "completed"
    },
    "tags": []
   },
   "source": [
    "**Prediction on new data**"
   ]
  },
  {
   "cell_type": "code",
   "execution_count": 38,
   "id": "a921b6ab",
   "metadata": {
    "execution": {
     "iopub.execute_input": "2023-09-11T14:23:18.005357Z",
     "iopub.status.busy": "2023-09-11T14:23:18.004947Z",
     "iopub.status.idle": "2023-09-11T14:23:19.226252Z",
     "shell.execute_reply": "2023-09-11T14:23:19.225259Z"
    },
    "papermill": {
     "duration": 2.408914,
     "end_time": "2023-09-11T14:23:19.229154",
     "exception": false,
     "start_time": "2023-09-11T14:23:16.820240",
     "status": "completed"
    },
    "tags": []
   },
   "outputs": [],
   "source": [
    "# Load the Word2Vec model as a KeyedVectors object\n",
    "word2vec_model1 = KeyedVectors.load('Word2Vec-twitter-100')\n",
    "\n",
    "\n",
    "# Load the tokenizer\n",
    "with open('Tokenizer.pickle', 'rb') as file:\n",
    "    tokenizer = pickle.load(file)\n",
    "\n",
    "# Load the TF-Model\n",
    "training_model = load_model('Saved Models/Sentiment-SimpleRNN')"
   ]
  },
  {
   "cell_type": "code",
   "execution_count": 39,
   "id": "513e0557",
   "metadata": {
    "execution": {
     "iopub.execute_input": "2023-09-11T14:23:21.479523Z",
     "iopub.status.busy": "2023-09-11T14:23:21.479136Z",
     "iopub.status.idle": "2023-09-11T14:23:21.484796Z",
     "shell.execute_reply": "2023-09-11T14:23:21.483806Z"
    },
    "papermill": {
     "duration": 1.126274,
     "end_time": "2023-09-11T14:23:21.486850",
     "exception": false,
     "start_time": "2023-09-11T14:23:20.360576",
     "status": "completed"
    },
    "tags": []
   },
   "outputs": [],
   "source": [
    "new_tweet = \"Today has been a terrible day. Nothing is going my way, and it feels like everything is falling apart. #badluck #feelingdown 😞\"\n",
    "\n",
    "# Tokenize and pad the new tweet\n",
    "input_length = 60  # Adjust this to match the input length used during training\n",
    "new_tweet_tokens = tokenizer.texts_to_sequences([new_tweet])\n",
    "new_tweet_tokens_padded = pad_sequences(new_tweet_tokens, maxlen=input_length)"
   ]
  },
  {
   "cell_type": "code",
   "execution_count": 40,
   "id": "a02e0bea",
   "metadata": {
    "execution": {
     "iopub.execute_input": "2023-09-11T14:23:23.832491Z",
     "iopub.status.busy": "2023-09-11T14:23:23.832126Z",
     "iopub.status.idle": "2023-09-11T14:23:24.063323Z",
     "shell.execute_reply": "2023-09-11T14:23:24.062386Z"
    },
    "papermill": {
     "duration": 1.407883,
     "end_time": "2023-09-11T14:23:24.065420",
     "exception": false,
     "start_time": "2023-09-11T14:23:22.657537",
     "status": "completed"
    },
    "tags": []
   },
   "outputs": [
    {
     "name": "stdout",
     "output_type": "stream",
     "text": [
      "1/1 [==============================] - 0s 254ms/step\n",
      "Predicted Sentiment: Negative\n"
     ]
    }
   ],
   "source": [
    "# Predict sentiment for the new tweet\n",
    "sentiment_probabilities = training_model.predict(new_tweet_tokens_padded)\n",
    "\n",
    "# If it's binary sentiment classification (positive/negative), you can use argmax to get the predicted sentiment\n",
    "predicted_sentiment = \"Positive\" if sentiment_probabilities[0][0] > 0.5 else \"Negative\"\n",
    "\n",
    "print(f\"Predicted Sentiment: {predicted_sentiment}\")"
   ]
  },
  {
   "cell_type": "markdown",
   "metadata": {},
   "source": [
    "# LSTM"
   ]
  },
  {
   "cell_type": "code",
   "execution_count": 41,
   "id": "55e9f17f",
   "metadata": {
    "papermill": {
     "duration": 1.175866,
     "end_time": "2023-09-11T14:23:31.126708",
     "exception": false,
     "start_time": "2023-09-11T14:23:29.950842",
     "status": "completed"
    },
    "tags": []
   },
   "outputs": [
    {
     "name": "stdout",
     "output_type": "stream",
     "text": [
      "Model: \"Sentiment_Model_LSTM\"\n",
      "_________________________________________________________________\n",
      " Layer (type)                Output Shape              Param #   \n",
      "=================================================================\n",
      " embedding_1 (Embedding)     (None, 60, 100)           6000000   \n",
      "                                                                 \n",
      " lstm (LSTM)                 (None, 60, 100)           80400     \n",
      "                                                                 \n",
      " dropout (Dropout)           (None, 60, 100)           0         \n",
      "                                                                 \n",
      " lstm_1 (LSTM)               (None, 100)               80400     \n",
      "                                                                 \n",
      " dropout_1 (Dropout)         (None, 100)               0         \n",
      "                                                                 \n",
      " dense_2 (Dense)             (None, 64)                6464      \n",
      "                                                                 \n",
      " dropout_2 (Dropout)         (None, 64)                0         \n",
      "                                                                 \n",
      " dense_3 (Dense)             (None, 16)                1040      \n",
      "                                                                 \n",
      " dropout_3 (Dropout)         (None, 16)                0         \n",
      "                                                                 \n",
      " dense_4 (Dense)             (None, 1)                 17        \n",
      "                                                                 \n",
      "=================================================================\n",
      "Total params: 6168321 (23.53 MB)\n",
      "Trainable params: 168321 (657.50 KB)\n",
      "Non-trainable params: 6000000 (22.89 MB)\n",
      "_________________________________________________________________\n",
      "Epoch 1/5\n",
      " 56/985 [>.............................] - ETA: 9:02 - loss: 0.6133 - accuracy: 0.6674"
     ]
    },
    {
     "name": "stdout",
     "output_type": "stream",
     "text": [
      "985/985 [==============================] - 599s 602ms/step - loss: 0.4712 - accuracy: 0.7859 - val_loss: 0.4062 - val_accuracy: 0.8129\n",
      "Epoch 2/5\n",
      "985/985 [==============================] - 587s 596ms/step - loss: 0.4279 - accuracy: 0.8124 - val_loss: 0.3939 - val_accuracy: 0.8193\n",
      "Epoch 3/5\n",
      "985/985 [==============================] - 586s 595ms/step - loss: 0.4154 - accuracy: 0.8195 - val_loss: 0.3863 - val_accuracy: 0.8249\n",
      "Epoch 4/5\n",
      "985/985 [==============================] - 586s 595ms/step - loss: 0.4073 - accuracy: 0.8232 - val_loss: 0.3811 - val_accuracy: 0.8283\n",
      "Epoch 5/5\n",
      "985/985 [==============================] - 586s 595ms/step - loss: 0.4016 - accuracy: 0.8268 - val_loss: 0.3783 - val_accuracy: 0.8297\n",
      "15000/15000 [==============================] - 695s 46ms/step\n",
      "Test accuracy_LSTM: 0.8301354166666667\n",
      "Confusion Matrix: LSTM\n"
     ]
    },
    {
     "data": {
      "image/png": "[encoded data removed]",
      "text/plain": [
       "<Figure size 640x480 with 2 Axes>"
      ]
     },
     "metadata": {},
     "output_type": "display_data"
    }
   ],
   "source": [
    "def getModel_lstm():\n",
    "    embedding_layer = Embedding(input_dim = vocab_length,\n",
    "                                output_dim = Embedding_dimensions,\n",
    "                                weights=[embedding_matrix],\n",
    "                                input_length=input_length,\n",
    "                                trainable=False)\n",
    "\n",
    "    model = Sequential([\n",
    "        embedding_layer,\n",
    "        LSTM(100, return_sequences=True),\n",
    "        Dropout(0.5),\n",
    "        LSTM(100),\n",
    "        Dropout(0.5),\n",
    "        Dense(64, activation='relu'),\n",
    "        Dropout(0.5),\n",
    "        Dense(16, activation='relu'),\n",
    "        Dropout(0.5),\n",
    "        Dense(1, activation='sigmoid'),\n",
    "    ],\n",
    "    name=\"Sentiment_Model_LSTM\")\n",
    "    return model\n",
    "\n",
    "training_model = getModel_lstm()\n",
    "training_model.summary()\n",
    "\n",
    "training_model.compile(loss='binary_crossentropy', optimizer='adam', metrics=['accuracy'])\n",
    "history = training_model.fit(\n",
    "    X_train, y_train,\n",
    "    batch_size=1024,\n",
    "    epochs=5,\n",
    "    validation_split=0.1,\n",
    "    verbose=1,\n",
    ")\n",
    "\n",
    "## Evaluating the model\n",
    "# Predicting on the Test dataset.\n",
    "y_pred = training_model.predict(X_test)\n",
    "\n",
    "# Converting prediction to reflect the sentiment predicted.\n",
    "y_pred = np.where(y_pred>=0.5, 1, 0)\n",
    "\n",
    "# Evaluate accuracy\n",
    "accuracy = accuracy_score(y_test, y_pred)\n",
    "print(f\"Test accuracy_LSTM: {accuracy}\")\n",
    "\n",
    "# Printing out the Evaluation metrics. \n",
    "print (\"Confusion Matrix: LSTM\")\n",
    "ConfusionMatrix(y_pred, y_test)"
   ]
  },
  {
   "cell_type": "code",
   "execution_count": 42,
   "metadata": {},
   "outputs": [
    {
     "name": "stdout",
     "output_type": "stream",
     "text": [
      "INFO:tensorflow:Assets written to: Saved Models/Sentiment-LSTM/assets\n"
     ]
    },
    {
     "name": "stderr",
     "output_type": "stream",
     "text": [
      "INFO:tensorflow:Assets written to: Saved Models/Sentiment-LSTM/assets\n"
     ]
    }
   ],
   "source": [
    "## Save model\n",
    "# Saving the TF-Model.\n",
    "training_model.save('Saved Models/Sentiment-LSTM')\n",
    "training_model.save_weights(\"Model Weights/weights_LSTM\")\n",
    "\n",
    "# Load the Word2Vec model as a KeyedVectors object\n",
    "word2vec_model1 = KeyedVectors.load('Word2Vec-twitter-100')\n",
    "\n",
    "\n",
    "# Load the tokenizer\n",
    "with open('Tokenizer.pickle', 'rb') as file:\n",
    "    tokenizer = pickle.load(file)\n",
    "\n",
    "# Load the TF-Model\n",
    "training_model = load_model('Saved Models/Sentiment-LSTM')"
   ]
  },
  {
   "cell_type": "code",
   "execution_count": 43,
   "metadata": {},
   "outputs": [
    {
     "name": "stdout",
     "output_type": "stream",
     "text": [
      "1/1 [==============================] - 3s 3s/step\n",
      "Predicted Sentiment: Negative\n"
     ]
    }
   ],
   "source": [
    "## Predictions on new data\n",
    "new_tweet = \"Today has been a terrible day. Nothing is going my way, and it feels like everything is falling apart. #badluck #feelingdown 😞\"\n",
    "\n",
    "# Tokenize and pad the new tweet\n",
    "input_length = 60  # Adjust this to match the input length used during training\n",
    "new_tweet_tokens = tokenizer.texts_to_sequences([new_tweet])\n",
    "new_tweet_tokens_padded = pad_sequences(new_tweet_tokens, maxlen=input_length)\n",
    "\n",
    "# Predict sentiment for the new tweet\n",
    "sentiment_probabilities = training_model.predict(new_tweet_tokens_padded)\n",
    "\n",
    "# If it's binary sentiment classification (positive/negative), you can use argmax to get the predicted sentiment\n",
    "predicted_sentiment = \"Positive\" if sentiment_probabilities[0][0] > 0.5 else \"Negative\"\n",
    "\n",
    "print(f\"Predicted Sentiment: {predicted_sentiment}\")"
   ]
  },
  {
   "cell_type": "markdown",
   "metadata": {},
   "source": [
    "# Bidirectional LSTM"
   ]
  },
  {
   "cell_type": "code",
   "execution_count": 44,
   "metadata": {},
   "outputs": [
    {
     "name": "stdout",
     "output_type": "stream",
     "text": [
      "Model: \"Sentiment_Model_BiLSTM\"\n",
      "_________________________________________________________________\n",
      " Layer (type)                Output Shape              Param #   \n",
      "=================================================================\n",
      " embedding_2 (Embedding)     (None, 60, 100)           6000000   \n",
      "                                                                 \n",
      " bidirectional (Bidirection  (None, 60, 200)           160800    \n",
      " al)                                                             \n",
      "                                                                 \n",
      " dropout_4 (Dropout)         (None, 60, 200)           0         \n",
      "                                                                 \n",
      " bidirectional_1 (Bidirecti  (None, 200)               240800    \n",
      " onal)                                                           \n",
      "                                                                 \n",
      " dropout_5 (Dropout)         (None, 200)               0         \n",
      "                                                                 \n",
      " dense_5 (Dense)             (None, 64)                12864     \n",
      "                                                                 \n",
      " dropout_6 (Dropout)         (None, 64)                0         \n",
      "                                                                 \n",
      " dense_6 (Dense)             (None, 16)                1040      \n",
      "                                                                 \n",
      " dropout_7 (Dropout)         (None, 16)                0         \n",
      "                                                                 \n",
      " dense_7 (Dense)             (None, 1)                 17        \n",
      "                                                                 \n",
      "=================================================================\n",
      "Total params: 6415521 (24.47 MB)\n",
      "Trainable params: 415521 (1.59 MB)\n",
      "Non-trainable params: 6000000 (22.89 MB)\n",
      "_________________________________________________________________\n",
      "Epoch 1/5\n",
      "985/985 [==============================] - 984s 989ms/step - loss: 0.4633 - accuracy: 0.7931 - val_loss: 0.4021 - val_accuracy: 0.8153\n",
      "Epoch 2/5\n",
      "985/985 [==============================] - 959s 973ms/step - loss: 0.4226 - accuracy: 0.8161 - val_loss: 0.3908 - val_accuracy: 0.8222\n",
      "Epoch 3/5\n",
      "985/985 [==============================] - 960s 974ms/step - loss: 0.4087 - accuracy: 0.8227 - val_loss: 0.3909 - val_accuracy: 0.8199\n",
      "Epoch 4/5\n",
      "985/985 [==============================] - 960s 975ms/step - loss: 0.3979 - accuracy: 0.8282 - val_loss: 0.3775 - val_accuracy: 0.8302\n",
      "Epoch 5/5\n",
      "985/985 [==============================] - 1005s 1s/step - loss: 0.3909 - accuracy: 0.8315 - val_loss: 0.3748 - val_accuracy: 0.8313\n",
      "15000/15000 [==============================] - 733s 49ms/step\n",
      "Test accuracy_BiLSTM: 0.8316375\n",
      "Confusion Matrix:BiLSTM\n"
     ]
    },
    {
     "data": {
      "image/png": "[encoded data removed]",
      "text/plain": [
       "<Figure size 640x480 with 2 Axes>"
      ]
     },
     "metadata": {},
     "output_type": "display_data"
    }
   ],
   "source": [
    "def getModel_bilstm():\n",
    "    embedding_layer = Embedding(input_dim = vocab_length,\n",
    "                                output_dim = Embedding_dimensions,\n",
    "                                weights=[embedding_matrix],\n",
    "                                input_length=input_length,\n",
    "                                trainable=False)\n",
    "\n",
    "    model = Sequential([\n",
    "        embedding_layer,\n",
    "        Bidirectional(LSTM(100, return_sequences=True)),\n",
    "        Dropout(0.5),\n",
    "        Bidirectional(LSTM(100)),\n",
    "        Dropout(0.5),\n",
    "        Dense(64, activation='relu'),\n",
    "        Dropout(0.5),\n",
    "        Dense(16, activation='relu'),\n",
    "        Dropout(0.5),\n",
    "        Dense(1, activation='sigmoid'),\n",
    "    ],\n",
    "    name=\"Sentiment_Model_BiLSTM\")\n",
    "    return model\n",
    "\n",
    "\n",
    "training_model = getModel_bilstm()\n",
    "training_model.summary()\n",
    "\n",
    "training_model.compile(loss='binary_crossentropy', optimizer='adam', metrics=['accuracy'])\n",
    "history = training_model.fit(\n",
    "    X_train, y_train,\n",
    "    batch_size=1024,\n",
    "    epochs=5,\n",
    "    validation_split=0.1,\n",
    "    verbose=1,\n",
    ")\n",
    "\n",
    "## Evaluating the model\n",
    "# Predicting on the Test dataset.\n",
    "y_pred = training_model.predict(X_test)\n",
    "\n",
    "# Converting prediction to reflect the sentiment predicted.\n",
    "y_pred = np.where(y_pred>=0.5, 1, 0)\n",
    "\n",
    "# Evaluate accuracy\n",
    "accuracy = accuracy_score(y_test, y_pred)\n",
    "print(f\"Test accuracy_BiLSTM: {accuracy}\")\n",
    "\n",
    "# Printing out the Evaluation metrics. \n",
    "print (\"Confusion Matrix:BiLSTM\")\n",
    "ConfusionMatrix(y_pred, y_test)"
   ]
  },
  {
   "cell_type": "code",
   "execution_count": 45,
   "metadata": {},
   "outputs": [
    {
     "name": "stdout",
     "output_type": "stream",
     "text": [
      "INFO:tensorflow:Assets written to: Saved Models/Sentiment-BiLSTM/assets\n"
     ]
    },
    {
     "name": "stderr",
     "output_type": "stream",
     "text": [
      "INFO:tensorflow:Assets written to: Saved Models/Sentiment-BiLSTM/assets\n"
     ]
    }
   ],
   "source": [
    "## Save model\n",
    "# Saving the TF-Model.\n",
    "training_model.save('Saved Models/Sentiment-BiLSTM')\n",
    "training_model.save_weights(\"Model Weights/weights_BiLSTM\")\n",
    "\n",
    "# Load the Word2Vec model as a KeyedVectors object\n",
    "word2vec_model1 = KeyedVectors.load('Word2Vec-twitter-100')\n",
    "\n",
    "\n",
    "# Load the tokenizer\n",
    "with open('Tokenizer.pickle', 'rb') as file:\n",
    "    tokenizer = pickle.load(file)\n",
    "\n",
    "# Load the TF-Model\n",
    "training_model = load_model('Saved Models/Sentiment-BiLSTM')"
   ]
  },
  {
   "cell_type": "code",
   "execution_count": 46,
   "metadata": {},
   "outputs": [
    {
     "name": "stdout",
     "output_type": "stream",
     "text": [
      "1/1 [==============================] - 2s 2s/step\n",
      "Predicted Sentiment: Negative\n"
     ]
    }
   ],
   "source": [
    "## Predictions on new data\n",
    "new_tweet = \"Today has been a terrible day. Nothing is going my way, and it feels like everything is falling apart. #badluck #feelingdown 😞\"\n",
    "\n",
    "# Tokenize and pad the new tweet\n",
    "input_length = 60  # Adjust this to match the input length used during training\n",
    "new_tweet_tokens = tokenizer.texts_to_sequences([new_tweet])\n",
    "new_tweet_tokens_padded = pad_sequences(new_tweet_tokens, maxlen=input_length)\n",
    "\n",
    "# Predict sentiment for the new tweet\n",
    "sentiment_probabilities = training_model.predict(new_tweet_tokens_padded)\n",
    "\n",
    "# If it's binary sentiment classification (positive/negative), you can use argmax to get the predicted sentiment\n",
    "predicted_sentiment = \"Positive\" if sentiment_probabilities[0][0] > 0.5 else \"Negative\"\n",
    "\n",
    "print(f\"Predicted Sentiment: {predicted_sentiment}\")"
   ]
  },
  {
   "cell_type": "markdown",
   "metadata": {},
   "source": [
    "# CNN "
   ]
  },
  {
   "cell_type": "code",
   "execution_count": 49,
   "metadata": {},
   "outputs": [
    {
     "name": "stdout",
     "output_type": "stream",
     "text": [
      "Model: \"Sentiment_Model_CNN\"\n",
      "_________________________________________________________________\n",
      " Layer (type)                Output Shape              Param #   \n",
      "=================================================================\n",
      " embedding_4 (Embedding)     (None, 60, 100)           6000000   \n",
      "                                                                 \n",
      " conv1d_2 (Conv1D)           (None, 56, 128)           64128     \n",
      "                                                                 \n",
      " max_pooling1d_1 (MaxPoolin  (None, 28, 128)           0         \n",
      " g1D)                                                            \n",
      "                                                                 \n",
      " conv1d_3 (Conv1D)           (None, 26, 64)            24640     \n",
      "                                                                 \n",
      " global_max_pooling1d_1 (Gl  (None, 64)                0         \n",
      " obalMaxPooling1D)                                               \n",
      "                                                                 \n",
      " dense_10 (Dense)            (None, 32)                2080      \n",
      "                                                                 \n",
      " dense_11 (Dense)            (None, 1)                 33        \n",
      "                                                                 \n",
      "=================================================================\n",
      "Total params: 6090881 (23.23 MB)\n",
      "Trainable params: 90881 (355.00 KB)\n",
      "Non-trainable params: 6000000 (22.89 MB)\n",
      "_________________________________________________________________\n",
      "Epoch 1/15\n",
      "985/985 [==============================] - 113s 113ms/step - loss: 0.4609 - accuracy: 0.7794 - val_loss: 0.4417 - val_accuracy: 0.7924\n",
      "Epoch 2/15\n",
      "985/985 [==============================] - 111s 112ms/step - loss: 0.4158 - accuracy: 0.8077 - val_loss: 0.4130 - val_accuracy: 0.8089\n",
      "Epoch 3/15\n",
      "985/985 [==============================] - 110s 112ms/step - loss: 0.4010 - accuracy: 0.8159 - val_loss: 0.4107 - val_accuracy: 0.8102\n",
      "Epoch 4/15\n",
      "985/985 [==============================] - 110s 112ms/step - loss: 0.3920 - accuracy: 0.8212 - val_loss: 0.4055 - val_accuracy: 0.8147\n",
      "Epoch 5/15\n",
      "985/985 [==============================] - 110s 112ms/step - loss: 0.3832 - accuracy: 0.8263 - val_loss: 0.4066 - val_accuracy: 0.8135\n",
      "Epoch 6/15\n",
      "985/985 [==============================] - 110s 112ms/step - loss: 0.3771 - accuracy: 0.8293 - val_loss: 0.4050 - val_accuracy: 0.8159\n",
      "Epoch 7/15\n",
      "985/985 [==============================] - 110s 112ms/step - loss: 0.3713 - accuracy: 0.8325 - val_loss: 0.4062 - val_accuracy: 0.8134\n",
      "Epoch 8/15\n",
      "985/985 [==============================] - 110s 112ms/step - loss: 0.3662 - accuracy: 0.8350 - val_loss: 0.4059 - val_accuracy: 0.8136\n",
      "Epoch 9/15\n",
      "985/985 [==============================] - 110s 112ms/step - loss: 0.3616 - accuracy: 0.8373 - val_loss: 0.4134 - val_accuracy: 0.8113\n",
      "Epoch 10/15\n",
      "985/985 [==============================] - 110s 112ms/step - loss: 0.3572 - accuracy: 0.8399 - val_loss: 0.4218 - val_accuracy: 0.8050\n",
      "Epoch 11/15\n",
      "985/985 [==============================] - 110s 112ms/step - loss: 0.3532 - accuracy: 0.8422 - val_loss: 0.4115 - val_accuracy: 0.8119\n",
      "Epoch 12/15\n",
      "985/985 [==============================] - 110s 112ms/step - loss: 0.3502 - accuracy: 0.8436 - val_loss: 0.4135 - val_accuracy: 0.8121\n",
      "Epoch 13/15\n",
      "985/985 [==============================] - 110s 112ms/step - loss: 0.3468 - accuracy: 0.8450 - val_loss: 0.4170 - val_accuracy: 0.8114\n",
      "Epoch 14/15\n",
      "985/985 [==============================] - 109s 111ms/step - loss: 0.3440 - accuracy: 0.8469 - val_loss: 0.4201 - val_accuracy: 0.8114\n",
      "Epoch 15/15\n",
      "985/985 [==============================] - 110s 112ms/step - loss: 0.3408 - accuracy: 0.8482 - val_loss: 0.4239 - val_accuracy: 0.8092\n",
      "15000/15000 [==============================] - 58s 4ms/step\n",
      "Test accuracy_CNN: 0.8087145833333333\n",
      "Confusion Matrix:CNN\n"
     ]
    },
    {
     "data": {
      "image/png": "[encoded data removed]",
      "text/plain": [
       "<Figure size 640x480 with 2 Axes>"
      ]
     },
     "metadata": {},
     "output_type": "display_data"
    }
   ],
   "source": [
    "def getModel_cnn():\n",
    "    embedding_layer = Embedding(input_dim = vocab_length,\n",
    "                                output_dim = Embedding_dimensions,\n",
    "                                weights=[embedding_matrix],\n",
    "                                input_length=input_length,\n",
    "                                trainable=False)\n",
    "\n",
    "    model = Sequential([\n",
    "        embedding_layer,\n",
    "        Conv1D(filters=128, kernel_size=5, activation='relu'),\n",
    "        MaxPooling1D(pool_size=2),\n",
    "        Conv1D(filters=64, kernel_size=3, activation='relu'),\n",
    "        GlobalMaxPooling1D(),\n",
    "        Dense(32, activation='relu'),\n",
    "        Dense(1, activation='sigmoid'),\n",
    "    ],\n",
    "    name=\"Sentiment_Model_CNN\")\n",
    "    return model\n",
    "\n",
    "\n",
    "training_model = getModel_cnn()\n",
    "training_model.summary()\n",
    "\n",
    "training_model.compile(loss='binary_crossentropy', optimizer='adam', metrics=['accuracy'])\n",
    "history = training_model.fit(\n",
    "    X_train, y_train,\n",
    "    batch_size=1024,\n",
    "    epochs=15,\n",
    "    validation_split=0.1,\n",
    "    verbose=1,\n",
    ")\n",
    "\n",
    "## Evaluating the model\n",
    "# Predicting on the Test dataset.\n",
    "y_pred = training_model.predict(X_test)\n",
    "\n",
    "# Converting prediction to reflect the sentiment predicted.\n",
    "y_pred = np.where(y_pred>=0.5, 1, 0)\n",
    "\n",
    "# Evaluate accuracy\n",
    "accuracy = accuracy_score(y_test, y_pred)\n",
    "print(f\"Test accuracy_CNN: {accuracy}\")\n",
    "\n",
    "# Printing out the Evaluation metrics. \n",
    "print (\"Confusion Matrix:CNN\")\n",
    "ConfusionMatrix(y_pred, y_test)"
   ]
  },
  {
   "cell_type": "code",
   "execution_count": 50,
   "metadata": {},
   "outputs": [
    {
     "name": "stdout",
     "output_type": "stream",
     "text": [
      "INFO:tensorflow:Assets written to: Saved Models/Sentiment-CNN/assets\n"
     ]
    },
    {
     "name": "stderr",
     "output_type": "stream",
     "text": [
      "INFO:tensorflow:Assets written to: Saved Models/Sentiment-CNN/assets\n"
     ]
    }
   ],
   "source": [
    "## Save model\n",
    "# Saving the TF-Model.\n",
    "training_model.save('Saved Models/Sentiment-CNN')\n",
    "training_model.save_weights(\"Model Weights/weights_CNN\")\n",
    "\n",
    "# Load the Word2Vec model as a KeyedVectors object\n",
    "word2vec_model1 = KeyedVectors.load('Word2Vec-twitter-100')\n",
    "\n",
    "\n",
    "# Load the tokenizer\n",
    "with open('Tokenizer.pickle', 'rb') as file:\n",
    "    tokenizer = pickle.load(file)\n",
    "\n",
    "# Load the TF-Model\n",
    "training_model = load_model('Saved Models/Sentiment-CNN')"
   ]
  },
  {
   "cell_type": "code",
   "execution_count": 51,
   "metadata": {},
   "outputs": [
    {
     "name": "stdout",
     "output_type": "stream",
     "text": [
      "1/1 [==============================] - 0s 129ms/step\n",
      "Predicted Sentiment: Negative\n"
     ]
    }
   ],
   "source": [
    "## Predictions on new data\n",
    "new_tweet = \"Today has been a terrible day. Nothing is going my way, and it feels like everything is falling apart. #badluck #feelingdown 😞\"\n",
    "\n",
    "# Tokenize and pad the new tweet\n",
    "input_length = 60  # Adjust this to match the input length used during training\n",
    "new_tweet_tokens = tokenizer.texts_to_sequences([new_tweet])\n",
    "new_tweet_tokens_padded = pad_sequences(new_tweet_tokens, maxlen=input_length)\n",
    "\n",
    "# Predict sentiment for the new tweet\n",
    "sentiment_probabilities = training_model.predict(new_tweet_tokens_padded)\n",
    "\n",
    "# If it's binary sentiment classification (positive/negative), you can use argmax to get the predicted sentiment\n",
    "predicted_sentiment = \"Positive\" if sentiment_probabilities[0][0] > 0.5 else \"Negative\"\n",
    "\n",
    "print(f\"Predicted Sentiment: {predicted_sentiment}\")"
   ]
  },
  {
   "cell_type": "code",
   "execution_count": null,
   "metadata": {},
   "outputs": [],
   "source": []
  }
 ],
 "kernelspec": {
  "display_name": "Python 3",
  "language": "python",
  "name": "python3"
 },
 "language_info": {
  "codemirror_mode": {
   "name": "ipython",
   "version": 3
  },
  "file_extension": ".py",
  "mimetype": "text/x-python",
  "name": "python",
  "nbconvert_exporter": "python",
  "pygments_lexer": "ipython3",
  "version": "3.6.4"
 },
 "metadata": {
  "kernelspec": {
   "display_name": "Python 3",
   "language": "python",
   "name": "python3"
  },
  "language_info": {
   "codemirror_mode": {
    "name": "ipython",
    "version": 3
   },
   "file_extension": ".py",
   "mimetype": "text/x-python",
   "name": "python",
   "nbconvert_exporter": "python",
   "pygments_lexer": "ipython3",
   "version": "3.1.0"
  },
  "papermill": {
   "default_parameters": {},
   "duration": 1252.772118,
   "end_time": "2023-09-11T14:23:35.167945",
   "environment_variables": {},
   "exception": null,
   "input_path": "__notebook__.ipynb",
   "output_path": "__notebook__.ipynb",
   "parameters": {},
   "start_time": "2023-09-11T14:02:42.395827",
   "version": "2.4.0"
  }
 },
 "nbformat": 4,
 "nbformat_minor": 5
}
